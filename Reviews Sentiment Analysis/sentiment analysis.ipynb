{
 "cells": [
  {
   "cell_type": "markdown",
   "metadata": {},
   "source": [
    "# Capstone | Machine Learning Engineer Nanodegree\n",
    "## Sentiment Of Reviews \n",
    "---"
   ]
  },
  {
   "cell_type": "markdown",
   "metadata": {},
   "source": [
    "`Sentiment Analysis` problem is a classification problem. In which we predict if a given\n",
    "review is `positive` or `negative`.\n",
    "let we have the following two sentences: \n",
    "- “Wow, the film is fantastic”\n",
    "- “I didn’t enjoy watching this film”.\n",
    "\n",
    "“Wow, the film is fantastic” is classified as a `positive review`\n",
    "\n",
    "“I didn’t enjoy watching this film” is classified as a `negative review`\n",
    "\n",
    "So, in this problem we should build an advanced model so as it can predict the sentiment correctly.\n",
    "\n",
    "The output is binary, `positive` or `negative` (or `1` or `0`) which refer to the positive review and the\n",
    "negative one respectively.\n",
    "\n",
    "---"
   ]
  },
  {
   "cell_type": "markdown",
   "metadata": {},
   "source": [
    "---\n",
    "\n",
    "## Data Injection\n",
    "\n",
    "in this section we load our dataset wich consists of 3 sources of reviews:\n",
    "\n",
    "- Amazon\n",
    "- Yelp\n",
    "- imdb"
   ]
  },
  {
   "cell_type": "code",
   "execution_count": 1,
   "metadata": {},
   "outputs": [],
   "source": [
    "import pandas as pd"
   ]
  },
  {
   "cell_type": "code",
   "execution_count": 2,
   "metadata": {},
   "outputs": [],
   "source": [
    "df = pd.read_table('sentiment labelled sentences/amazon_cells_labelled.txt', sep='\\t', header=None, \n",
    "                   names=['review', 'sentiment'])\n",
    "\n",
    "# append the reviews of imdb to our dataset\n",
    "df = df.append(pd.read_table('sentiment labelled sentences/imdb_labelled.txt', sep='\\t', header=None, \n",
    "                   names=['review', 'sentiment']), ignore_index = True)\n",
    "\n",
    "# append the reviews of yelp to our dataset\n",
    "df = df.append(pd.read_table('sentiment labelled sentences/yelp_labelled.txt', sep='\\t', header=None, \n",
    "                   names=['review', 'sentiment']), ignore_index = True)"
   ]
  },
  {
   "cell_type": "code",
   "execution_count": 3,
   "metadata": {},
   "outputs": [
    {
     "data": {
      "text/html": [
       "<div>\n",
       "<style scoped>\n",
       "    .dataframe tbody tr th:only-of-type {\n",
       "        vertical-align: middle;\n",
       "    }\n",
       "\n",
       "    .dataframe tbody tr th {\n",
       "        vertical-align: top;\n",
       "    }\n",
       "\n",
       "    .dataframe thead th {\n",
       "        text-align: right;\n",
       "    }\n",
       "</style>\n",
       "<table border=\"1\" class=\"dataframe\">\n",
       "  <thead>\n",
       "    <tr style=\"text-align: right;\">\n",
       "      <th></th>\n",
       "      <th>review</th>\n",
       "      <th>sentiment</th>\n",
       "    </tr>\n",
       "  </thead>\n",
       "  <tbody>\n",
       "    <tr>\n",
       "      <th>0</th>\n",
       "      <td>So there is no way for me to plug it in here i...</td>\n",
       "      <td>0</td>\n",
       "    </tr>\n",
       "    <tr>\n",
       "      <th>1</th>\n",
       "      <td>Good case, Excellent value.</td>\n",
       "      <td>1</td>\n",
       "    </tr>\n",
       "    <tr>\n",
       "      <th>2</th>\n",
       "      <td>Great for the jawbone.</td>\n",
       "      <td>1</td>\n",
       "    </tr>\n",
       "    <tr>\n",
       "      <th>3</th>\n",
       "      <td>Tied to charger for conversations lasting more...</td>\n",
       "      <td>0</td>\n",
       "    </tr>\n",
       "    <tr>\n",
       "      <th>4</th>\n",
       "      <td>The mic is great.</td>\n",
       "      <td>1</td>\n",
       "    </tr>\n",
       "    <tr>\n",
       "      <th>5</th>\n",
       "      <td>I have to jiggle the plug to get it to line up...</td>\n",
       "      <td>0</td>\n",
       "    </tr>\n",
       "    <tr>\n",
       "      <th>6</th>\n",
       "      <td>If you have several dozen or several hundred c...</td>\n",
       "      <td>0</td>\n",
       "    </tr>\n",
       "    <tr>\n",
       "      <th>7</th>\n",
       "      <td>If you are Razr owner...you must have this!</td>\n",
       "      <td>1</td>\n",
       "    </tr>\n",
       "    <tr>\n",
       "      <th>8</th>\n",
       "      <td>Needless to say, I wasted my money.</td>\n",
       "      <td>0</td>\n",
       "    </tr>\n",
       "    <tr>\n",
       "      <th>9</th>\n",
       "      <td>What a waste of money and time!.</td>\n",
       "      <td>0</td>\n",
       "    </tr>\n",
       "  </tbody>\n",
       "</table>\n",
       "</div>"
      ],
      "text/plain": [
       "                                              review  sentiment\n",
       "0  So there is no way for me to plug it in here i...          0\n",
       "1                        Good case, Excellent value.          1\n",
       "2                             Great for the jawbone.          1\n",
       "3  Tied to charger for conversations lasting more...          0\n",
       "4                                  The mic is great.          1\n",
       "5  I have to jiggle the plug to get it to line up...          0\n",
       "6  If you have several dozen or several hundred c...          0\n",
       "7        If you are Razr owner...you must have this!          1\n",
       "8                Needless to say, I wasted my money.          0\n",
       "9                   What a waste of money and time!.          0"
      ]
     },
     "execution_count": 3,
     "metadata": {},
     "output_type": "execute_result"
    }
   ],
   "source": [
    "df.head(n=10)"
   ]
  },
  {
   "cell_type": "code",
   "execution_count": 4,
   "metadata": {},
   "outputs": [
    {
     "name": "stdout",
     "output_type": "stream",
     "text": [
      "[RangeIndex(start=0, stop=2748, step=1), Index(['review', 'sentiment'], dtype='object')]\n"
     ]
    }
   ],
   "source": [
    "print(df.axes)"
   ]
  },
  {
   "cell_type": "code",
   "execution_count": 166,
   "metadata": {},
   "outputs": [],
   "source": [
    "import numpy as np\n",
    "import matplotlib.pyplot as plt\n",
    "import scipy.stats as stats"
   ]
  },
  {
   "cell_type": "code",
   "execution_count": 167,
   "metadata": {},
   "outputs": [],
   "source": [
    "#store number of words in each review\n",
    "nums_of_words = [len(str(x).split()) for x in df['review']]"
   ]
  },
  {
   "cell_type": "code",
   "execution_count": 168,
   "metadata": {},
   "outputs": [
    {
     "name": "stdout",
     "output_type": "stream",
     "text": [
      "max number of words:  1390\n",
      "min number of words:  1\n",
      "mean is:  13.006550218340612\n",
      "meadian is:  10.0\n",
      "standard deviation is:  35.81287227056574\n"
     ]
    }
   ],
   "source": [
    "# calculate some statistics\n",
    "\n",
    "max_num = np.max(nums_of_words)\n",
    "print(\"max number of words: \", max_num)\n",
    "min_num = np.min(nums_of_words)\n",
    "print(\"min number of words: \", min_num)\n",
    "mean = np.mean(nums_of_words)\n",
    "print(\"mean is: \", mean)\n",
    "median = np.median(nums_of_words)\n",
    "print(\"meadian is: \", median)\n",
    "std = np.std(nums_of_words)\n",
    "print(\"standard deviation is: \", std)"
   ]
  },
  {
   "cell_type": "code",
   "execution_count": 169,
   "metadata": {},
   "outputs": [],
   "source": [
    "y = np.array(nums_of_words)\n",
    "y.sort()"
   ]
  },
  {
   "cell_type": "code",
   "execution_count": 170,
   "metadata": {},
   "outputs": [
    {
     "data": {
      "image/png": "[encoded data removed]",
      "text/plain": [
       "<Figure size 432x288 with 1 Axes>"
      ]
     },
     "metadata": {},
     "output_type": "display_data"
    }
   ],
   "source": [
    "plt.scatter(x=range(1,2749), y = y)\n",
    "plt.show()"
   ]
  },
  {
   "cell_type": "code",
   "execution_count": 171,
   "metadata": {},
   "outputs": [
    {
     "name": "stdout",
     "output_type": "stream",
     "text": [
      "2743\n"
     ]
    }
   ],
   "source": [
    "y = [i for i in y if i < 100]\n",
    "print(len(y))"
   ]
  },
  {
   "cell_type": "code",
   "execution_count": 172,
   "metadata": {},
   "outputs": [
    {
     "data": {
      "image/png": "[encoded data removed]",
      "text/plain": [
       "<Figure size 432x288 with 1 Axes>"
      ]
     },
     "metadata": {},
     "output_type": "display_data"
    }
   ],
   "source": [
    "plt.scatter(x=range(1,2744), y = y)\n",
    "plt.show()"
   ]
  },
  {
   "cell_type": "code",
   "execution_count": 184,
   "metadata": {},
   "outputs": [
    {
     "data": {
      "image/png": "[encoded data removed]",
      "text/plain": [
       "<Figure size 432x288 with 1 Axes>"
      ]
     },
     "metadata": {},
     "output_type": "display_data"
    },
    {
     "name": "stdout",
     "output_type": "stream",
     "text": [
      "[12, 106, 150, 203, 180, 159, 173, 156, 133, 152, 144, 139, 99, 101, 97, 86, 83, 65, 70, 71, 69, 40, 45, 38, 37, 22, 14, 16, 9, 10, 10, 7, 8, 10]\n",
      "ratio of new set to old set:  0.987627365356623\n"
     ]
    }
   ],
   "source": [
    "plt.hist(y)\n",
    "plt.show()\n",
    "h = [y.count(i) for i in range(1,35)]\n",
    "print(h)\n",
    "print(\"ratio of new set to old set: \",sum(h)/2748)"
   ]
  },
  {
   "cell_type": "code",
   "execution_count": 182,
   "metadata": {},
   "outputs": [
    {
     "data": {
      "image/png": "[encoded data removed]",
      "text/plain": [
       "<Figure size 432x288 with 1 Axes>"
      ]
     },
     "metadata": {},
     "output_type": "display_data"
    }
   ],
   "source": [
    "plt.scatter(x=range(1,35),y=h)\n",
    "plt.show()"
   ]
  },
  {
   "cell_type": "markdown",
   "metadata": {},
   "source": [
    "now our data set cosists of 2748 examples from the 3 mentioned resources. the index of our set are review, for the text feedback or review, and sentiment which is 1 if the review is positive or 0 if the review is negative."
   ]
  },
  {
   "cell_type": "markdown",
   "metadata": {},
   "source": [
    "---\n",
    "\n",
    "## Data Visualization\n",
    "\n",
    "let's understand our dataset more.\n",
    "\n",
    "- How many positive and how many negative reviews?\n",
    "- Is the dataset balanced or not?\n",
    "- Is the dataset shuffled or need to be shuffled?"
   ]
  },
  {
   "cell_type": "code",
   "execution_count": 365,
   "metadata": {},
   "outputs": [
    {
     "name": "stdout",
     "output_type": "stream",
     "text": [
      "1362\n"
     ]
    }
   ],
   "source": [
    "pos_num = sum(df['sentiment'] == 0)\n",
    "print(pos_num)"
   ]
  },
  {
   "cell_type": "code",
   "execution_count": 366,
   "metadata": {},
   "outputs": [
    {
     "name": "stdout",
     "output_type": "stream",
     "text": [
      "1386\n"
     ]
    }
   ],
   "source": [
    "neg_num = sum(df['sentiment'] == 1)\n",
    "print(neg_num)"
   ]
  },
  {
   "cell_type": "code",
   "execution_count": 367,
   "metadata": {},
   "outputs": [],
   "source": [
    "pos_perc = pos_num/(pos_num + neg_num)\n",
    "neg_perc = neg_num/(pos_num + neg_num)"
   ]
  },
  {
   "cell_type": "code",
   "execution_count": 368,
   "metadata": {},
   "outputs": [
    {
     "name": "stdout",
     "output_type": "stream",
     "text": [
      "postive reviews percentage:  0.49563318777292575\n",
      "negative reviews percentage:  0.5043668122270742\n"
     ]
    }
   ],
   "source": [
    "print(\"postive reviews percentage: \", pos_perc)\n",
    "print(\"negative reviews percentage: \", neg_perc)"
   ]
  },
  {
   "cell_type": "markdown",
   "metadata": {},
   "source": [
    "So, we consider our dataset is balanced as 0.4% is very small percentage which we can neglect it."
   ]
  },
  {
   "cell_type": "code",
   "execution_count": 370,
   "metadata": {},
   "outputs": [
    {
     "data": {
      "image/png": "[encoded data removed]",
      "text/plain": [
       "<Figure size 5760x504 with 1 Axes>"
      ]
     },
     "metadata": {},
     "output_type": "display_data"
    }
   ],
   "source": [
    "fig, ax = plt.subplots(1,1,figsize=(80,7))\n",
    "ax.scatter(df['sentiment'].index,df['sentiment'], marker='.')\n",
    "plt.title('visulization of data distribution')\n",
    "plt.xlabel('example number')\n",
    "plt.ylabel('sentiment')\n",
    "plt.show()\n",
    "\n",
    "#note: double click on the shown plot to zoom in."
   ]
  },
  {
   "cell_type": "markdown",
   "metadata": {},
   "source": [
    "you can zoom in our previous plot and find out that it's shuffled, so the 1 sentiments and 0 sentiments are shuffled and there is no need to shuffle them."
   ]
  },
  {
   "cell_type": "markdown",
   "metadata": {},
   "source": [
    "---\n",
    "\n",
    "## Data Preprocessing\n",
    "\n",
    "now, it's time to split our data to training and testing sets."
   ]
  },
  {
   "cell_type": "code",
   "execution_count": 371,
   "metadata": {},
   "outputs": [],
   "source": [
    "from sklearn.model_selection import train_test_split"
   ]
  },
  {
   "cell_type": "code",
   "execution_count": 372,
   "metadata": {},
   "outputs": [],
   "source": [
    "x_train, x_test, y_train, y_test = train_test_split(df['review'], df['sentiment'], test_size = 0.2, shuffle=True)\n",
    "# note that our data is shuffled, but shuffle = True here means to shuffle for split."
   ]
  },
  {
   "cell_type": "code",
   "execution_count": 373,
   "metadata": {},
   "outputs": [
    {
     "name": "stdout",
     "output_type": "stream",
     "text": [
      "Number of rows in the total set: 2748\n",
      "Number of rows in the training set: 2198\n",
      "Number of rows in the test set: 550\n"
     ]
    }
   ],
   "source": [
    "print('Number of rows in the total set: {}'.format(df.shape[0]))\n",
    "print('Number of rows in the training set: {}'.format(x_train.shape[0]))\n",
    "print('Number of rows in the test set: {}'.format(x_test.shape[0]))"
   ]
  },
  {
   "cell_type": "markdown",
   "metadata": {},
   "source": [
    "---\n",
    "Now, to use our reviews in training and testing we must convert them to another representation not to use them as text sentences.\n",
    "here we use bag of words to achieve that.\n",
    "and we use CountVectorizer to achive bag of words."
   ]
  },
  {
   "cell_type": "code",
   "execution_count": 374,
   "metadata": {},
   "outputs": [],
   "source": [
    "from sklearn.feature_extraction.text import CountVectorizer"
   ]
  },
  {
   "cell_type": "code",
   "execution_count": 375,
   "metadata": {},
   "outputs": [],
   "source": [
    "# we convert all text to lowercase before working on them.\n",
    "# we avoid stop words to consider.\n",
    "count_vector = CountVectorizer(stop_words='english', lowercase=True, ngram_range=(1,3), max_features=20000)"
   ]
  },
  {
   "cell_type": "code",
   "execution_count": 376,
   "metadata": {},
   "outputs": [],
   "source": [
    "training_data = count_vector.fit_transform(x_train, y_train)"
   ]
  },
  {
   "cell_type": "code",
   "execution_count": 377,
   "metadata": {},
   "outputs": [],
   "source": [
    "testing_data = count_vector.transform(x_test)"
   ]
  },
  {
   "cell_type": "code",
   "execution_count": 378,
   "metadata": {},
   "outputs": [
    {
     "name": "stdout",
     "output_type": "stream",
     "text": [
      "first training example new representation\n",
      "   (0, 5383)\t1\n",
      "  (0, 8821)\t1\n",
      "  (0, 5369)\t1\n",
      "first testing example new representation\n",
      "   (0, 1992)\t1\n",
      "  (0, 3949)\t1\n",
      "  (0, 6126)\t1\n",
      "  (0, 6140)\t1\n",
      "  (0, 13309)\t1\n",
      "  (0, 16675)\t1\n"
     ]
    }
   ],
   "source": [
    "print(\"first training example new representation\\n\",training_data[0])\n",
    "print(\"first testing example new representation\\n\",testing_data[0])"
   ]
  },
  {
   "cell_type": "markdown",
   "metadata": {},
   "source": [
    "## Training and Evaluation"
   ]
  },
  {
   "cell_type": "markdown",
   "metadata": {},
   "source": [
    "First we train our selected benchmark on our dataset and print the result accuracy."
   ]
  },
  {
   "cell_type": "code",
   "execution_count": 379,
   "metadata": {},
   "outputs": [],
   "source": [
    "from sklearn import svm"
   ]
  },
  {
   "cell_type": "code",
   "execution_count": 380,
   "metadata": {},
   "outputs": [],
   "source": [
    "benchmark = svm.LinearSVC()"
   ]
  },
  {
   "cell_type": "code",
   "execution_count": 381,
   "metadata": {},
   "outputs": [
    {
     "data": {
      "text/plain": [
       "LinearSVC(C=1.0, class_weight=None, dual=True, fit_intercept=True,\n",
       "     intercept_scaling=1, loss='squared_hinge', max_iter=1000,\n",
       "     multi_class='ovr', penalty='l2', random_state=None, tol=0.0001,\n",
       "     verbose=0)"
      ]
     },
     "execution_count": 381,
     "metadata": {},
     "output_type": "execute_result"
    }
   ],
   "source": [
    "benchmark.fit(training_data, y_train)"
   ]
  },
  {
   "cell_type": "code",
   "execution_count": 382,
   "metadata": {},
   "outputs": [],
   "source": [
    "preds = benchmark.predict(testing_data)"
   ]
  },
  {
   "cell_type": "code",
   "execution_count": 383,
   "metadata": {},
   "outputs": [],
   "source": [
    "from sklearn.metrics import accuracy_score"
   ]
  },
  {
   "cell_type": "code",
   "execution_count": 384,
   "metadata": {},
   "outputs": [
    {
     "name": "stdout",
     "output_type": "stream",
     "text": [
      "Accuracy score: 0.79273\n"
     ]
    }
   ],
   "source": [
    "print(\"Accuracy score: {:.5f}\".format(accuracy_score(y_test, preds)))"
   ]
  },
  {
   "cell_type": "markdown",
   "metadata": {},
   "source": [
    "---\n",
    "Now, let's try two of the naive bayes algorithms to solve our problem.\n",
    "\n",
    "- Multinomial NB\n",
    "- Bernoulli NB"
   ]
  },
  {
   "cell_type": "markdown",
   "metadata": {},
   "source": [
    "---\n",
    "### [1] Multinomial NB"
   ]
  },
  {
   "cell_type": "code",
   "execution_count": 385,
   "metadata": {},
   "outputs": [],
   "source": [
    "from sklearn.naive_bayes import MultinomialNB"
   ]
  },
  {
   "cell_type": "code",
   "execution_count": 386,
   "metadata": {},
   "outputs": [
    {
     "data": {
      "text/plain": [
       "MultinomialNB(alpha=1.0, class_prior=None, fit_prior=True)"
      ]
     },
     "execution_count": 386,
     "metadata": {},
     "output_type": "execute_result"
    }
   ],
   "source": [
    "model = MultinomialNB()\n",
    "model.fit(training_data, y_train)"
   ]
  },
  {
   "cell_type": "code",
   "execution_count": 387,
   "metadata": {},
   "outputs": [],
   "source": [
    "predictions = model.predict(testing_data)"
   ]
  },
  {
   "cell_type": "code",
   "execution_count": 388,
   "metadata": {},
   "outputs": [
    {
     "name": "stdout",
     "output_type": "stream",
     "text": [
      "Accuracy score: 0.79091\n",
      "Precision score: 0.73718\n",
      "Recall score: 0.87452\n",
      "F1 score: 0.80000\n"
     ]
    }
   ],
   "source": [
    "from sklearn.metrics import accuracy_score, precision_score, recall_score, f1_score\n",
    "print(\"Accuracy score: {:.5f}\".format(accuracy_score(y_test, predictions)))\n",
    "print(\"Precision score: {:.5f}\".format(precision_score(y_test, predictions)))\n",
    "print(\"Recall score: {:.5f}\".format(recall_score(y_test, predictions)))\n",
    "print(\"F1 score: {:.5f}\".format(f1_score(y_test, predictions)))"
   ]
  },
  {
   "cell_type": "markdown",
   "metadata": {},
   "source": [
    "we can enhance the accuracy by tunning our parameters, we have one parameter which we can tune using GridSearch."
   ]
  },
  {
   "cell_type": "code",
   "execution_count": 389,
   "metadata": {},
   "outputs": [],
   "source": [
    "#this function is usful to show the confution matrix\n",
    "def plot_confusion_matrix(cm, classes,\n",
    "                          normalize=False,\n",
    "                          title='Confusion matrix',\n",
    "                          cmap=plt.cm.Blues):\n",
    "    \"\"\"\n",
    "    This function prints and plots the confusion matrix.\n",
    "    Normalization can be applied by setting `normalize=True`.\n",
    "    \"\"\"\n",
    "    plt.figure(figsize = (5,5))\n",
    "    plt.imshow(cm, interpolation='nearest', cmap=cmap)\n",
    "    plt.title(title)\n",
    "    plt.colorbar()\n",
    "    tick_marks = np.arange(len(classes))\n",
    "    plt.xticks(tick_marks, classes, rotation=90)\n",
    "    plt.yticks(tick_marks, classes)\n",
    "    if normalize:\n",
    "        cm = cm.astype('float') / cm.sum(axis=1)[:, np.newaxis]\n",
    "\n",
    "    thresh = cm.max() / 2.\n",
    "    for i, j in itertools.product(range(cm.shape[0]), range(cm.shape[1])):\n",
    "        plt.text(j, i, cm[i, j],\n",
    "                 horizontalalignment=\"center\",\n",
    "                 color=\"white\" if cm[i, j] > thresh else \"black\")\n",
    "    plt.tight_layout()\n",
    "    plt.ylabel('True label')\n",
    "    plt.xlabel('Predicted label')"
   ]
  },
  {
   "cell_type": "code",
   "execution_count": 390,
   "metadata": {},
   "outputs": [],
   "source": [
    "from sklearn.metrics import confusion_matrix\n",
    "import numpy as np\n",
    "import itertools"
   ]
  },
  {
   "cell_type": "code",
   "execution_count": 391,
   "metadata": {},
   "outputs": [
    {
     "data": {
      "image/png": "[encoded data removed]",
      "text/plain": [
       "<Figure size 360x360 with 2 Axes>"
      ]
     },
     "metadata": {},
     "output_type": "display_data"
    }
   ],
   "source": [
    "dict_characters = {0 : 'negative', 1 : 'positive'}\n",
    "confusion_mtx = confusion_matrix(y_test, predictions) \n",
    "plot_confusion_matrix(confusion_mtx, classes = list(dict_characters.values())) \n",
    "plt.show()"
   ]
  },
  {
   "cell_type": "code",
   "execution_count": 392,
   "metadata": {},
   "outputs": [],
   "source": [
    "from sklearn.grid_search import GridSearchCV\n",
    "from sklearn.metrics import make_scorer"
   ]
  },
  {
   "cell_type": "code",
   "execution_count": 393,
   "metadata": {},
   "outputs": [],
   "source": [
    "#accutally it's a linear search as we tune only one parameter which it's alpha\n",
    "parameters = {'alpha' : [0.001,0.01,0.1,0.2,0.3,0.4,0.5,0.6,0.75,0.8,0.9,1,1.1,1.2,1.3,1.4,1.5,1.6,1.7,1.8,1.9,2]}\n",
    "scorer = make_scorer(accuracy_score)"
   ]
  },
  {
   "cell_type": "code",
   "execution_count": 394,
   "metadata": {},
   "outputs": [
    {
     "name": "stdout",
     "output_type": "stream",
     "text": [
      "Fitting 3 folds for each of 22 candidates, totalling 66 fits\n",
      "[CV] alpha=0.001 .....................................................\n",
      "[CV] ............................ alpha=0.001, score=0.735695 -   0.0s\n",
      "[CV] alpha=0.001 .....................................................\n",
      "[CV] ............................ alpha=0.001, score=0.725410 -   0.0s\n",
      "[CV] alpha=0.001 .....................................................\n",
      "[CV] ............................ alpha=0.001, score=0.740437 -   0.0s\n",
      "[CV] alpha=0.01 ......................................................\n",
      "[CV] ............................. alpha=0.01, score=0.738420 -   0.0s\n",
      "[CV] alpha=0.01 ......................................................\n",
      "[CV] ............................. alpha=0.01, score=0.726776 -   0.0s\n",
      "[CV] alpha=0.01 ......................................................\n",
      "[CV] ............................. alpha=0.01, score=0.740437 -   0.0s\n",
      "[CV] alpha=0.1 .......................................................\n",
      "[CV] .............................. alpha=0.1, score=0.746594 -   0.0s\n",
      "[CV] alpha=0.1 .......................................................\n",
      "[CV] .............................. alpha=0.1, score=0.744536 -   0.0s\n",
      "[CV] alpha=0.1 .......................................................\n",
      "[CV] .............................. alpha=0.1, score=0.745902 -   0.0s\n",
      "[CV] alpha=0.2 .......................................................\n",
      "[CV] .............................. alpha=0.2, score=0.750681 -   0.0s\n",
      "[CV] alpha=0.2 .......................................................\n",
      "[CV] .............................. alpha=0.2, score=0.748634 -   0.0s\n",
      "[CV] alpha=0.2 .......................................................\n",
      "[CV] .............................. alpha=0.2, score=0.756831 -   0.0s\n",
      "[CV] alpha=0.3 .......................................................\n",
      "[CV] .............................. alpha=0.3, score=0.758856 -   0.0s\n",
      "[CV] alpha=0.3 .......................................................\n",
      "[CV] .............................. alpha=0.3, score=0.756831 -   0.0s\n",
      "[CV] alpha=0.3 .......................................................\n",
      "[CV] .............................. alpha=0.3, score=0.752732 -   0.0s\n",
      "[CV] alpha=0.4 .......................................................\n",
      "[CV] .............................. alpha=0.4, score=0.756131 -   0.0s\n",
      "[CV] alpha=0.4 .......................................................\n",
      "[CV] .............................. alpha=0.4, score=0.756831 -   0.0s\n",
      "[CV] alpha=0.4 .......................................................\n",
      "[CV] .............................. alpha=0.4, score=0.754098 -   0.0s\n",
      "[CV] alpha=0.5 .......................................................\n",
      "[CV] .............................. alpha=0.5, score=0.754768 -   0.0s\n",
      "[CV] alpha=0.5 .......................................................\n",
      "[CV] .............................. alpha=0.5, score=0.755464 -   0.0s\n",
      "[CV] alpha=0.5 .......................................................\n",
      "[CV] .............................. alpha=0.5, score=0.752732 -   0.0s\n",
      "[CV] alpha=0.6 .......................................................\n",
      "[CV] .............................. alpha=0.6, score=0.757493 -   0.0s\n",
      "[CV] alpha=0.6 .......................................................\n",
      "[CV] .............................. alpha=0.6, score=0.755464 -   0.0s\n",
      "[CV] alpha=0.6 .......................................................\n",
      "[CV] .............................. alpha=0.6, score=0.756831 -   0.0s\n",
      "[CV] alpha=0.75 ......................................................\n",
      "[CV] ............................. alpha=0.75, score=0.764305 -   0.0s\n",
      "[CV] alpha=0.75 ......................................................\n",
      "[CV] ............................. alpha=0.75, score=0.756831 -   0.0s\n",
      "[CV] alpha=0.75 ......................................................\n",
      "[CV] ............................. alpha=0.75, score=0.758197 -   0.0s\n",
      "[CV] alpha=0.8 .......................................................\n",
      "[CV] .............................. alpha=0.8, score=0.767030 -   0.0s\n",
      "[CV] alpha=0.8 .......................................................\n",
      "[CV] .............................. alpha=0.8, score=0.755464 -   0.0s\n",
      "[CV] alpha=0.8 .......................................................\n"
     ]
    },
    {
     "name": "stderr",
     "output_type": "stream",
     "text": [
      "[Parallel(n_jobs=1)]: Done   1 out of   1 | elapsed:    0.0s remaining:    0.0s\n",
      "[Parallel(n_jobs=1)]: Done   2 out of   2 | elapsed:    0.0s remaining:    0.0s\n",
      "[Parallel(n_jobs=1)]: Done   3 out of   3 | elapsed:    0.0s remaining:    0.0s\n",
      "[Parallel(n_jobs=1)]: Done   4 out of   4 | elapsed:    0.0s remaining:    0.0s\n",
      "[Parallel(n_jobs=1)]: Done   5 out of   5 | elapsed:    0.0s remaining:    0.0s\n",
      "[Parallel(n_jobs=1)]: Done   6 out of   6 | elapsed:    0.0s remaining:    0.0s\n",
      "[Parallel(n_jobs=1)]: Done   7 out of   7 | elapsed:    0.0s remaining:    0.0s\n",
      "[Parallel(n_jobs=1)]: Done   8 out of   8 | elapsed:    0.1s remaining:    0.0s\n",
      "[Parallel(n_jobs=1)]: Done   9 out of   9 | elapsed:    0.1s remaining:    0.0s\n"
     ]
    },
    {
     "name": "stdout",
     "output_type": "stream",
     "text": [
      "[CV] .............................. alpha=0.8, score=0.758197 -   0.0s\n",
      "[CV] alpha=0.9 .......................................................\n",
      "[CV] .............................. alpha=0.9, score=0.764305 -   0.0s\n",
      "[CV] alpha=0.9 .......................................................\n",
      "[CV] .............................. alpha=0.9, score=0.755464 -   0.0s\n",
      "[CV] alpha=0.9 .......................................................\n",
      "[CV] .............................. alpha=0.9, score=0.766393 -   0.0s\n",
      "[CV] alpha=1 .........................................................\n",
      "[CV] ................................ alpha=1, score=0.764305 -   0.0s\n",
      "[CV] alpha=1 .........................................................\n",
      "[CV] ................................ alpha=1, score=0.756831 -   0.0s\n",
      "[CV] alpha=1 .........................................................\n",
      "[CV] ................................ alpha=1, score=0.771858 -   0.0s\n",
      "[CV] alpha=1.1 .......................................................\n",
      "[CV] .............................. alpha=1.1, score=0.767030 -   0.0s\n",
      "[CV] alpha=1.1 .......................................................\n",
      "[CV] .............................. alpha=1.1, score=0.759563 -   0.0s\n",
      "[CV] alpha=1.1 .......................................................\n",
      "[CV] .............................. alpha=1.1, score=0.770492 -   0.0s\n",
      "[CV] alpha=1.2 .......................................................\n",
      "[CV] .............................. alpha=1.2, score=0.768392 -   0.0s\n",
      "[CV] alpha=1.2 .......................................................\n",
      "[CV] .............................. alpha=1.2, score=0.760929 -   0.0s\n",
      "[CV] alpha=1.2 .......................................................\n",
      "[CV] .............................. alpha=1.2, score=0.770492 -   0.0s\n",
      "[CV] alpha=1.3 .......................................................\n",
      "[CV] .............................. alpha=1.3, score=0.771117 -   0.0s\n",
      "[CV] alpha=1.3 .......................................................\n",
      "[CV] .............................. alpha=1.3, score=0.762295 -   0.0s\n",
      "[CV] alpha=1.3 .......................................................\n",
      "[CV] .............................. alpha=1.3, score=0.775956 -   0.0s\n",
      "[CV] alpha=1.4 .......................................................\n",
      "[CV] .............................. alpha=1.4, score=0.769755 -   0.0s\n",
      "[CV] alpha=1.4 .......................................................\n",
      "[CV] .............................. alpha=1.4, score=0.765027 -   0.0s\n",
      "[CV] alpha=1.4 .......................................................\n",
      "[CV] .............................. alpha=1.4, score=0.774590 -   0.0s\n",
      "[CV] alpha=1.5 .......................................................\n",
      "[CV] .............................. alpha=1.5, score=0.769755 -   0.0s\n",
      "[CV] alpha=1.5 .......................................................\n",
      "[CV] .............................. alpha=1.5, score=0.766393 -   0.0s\n",
      "[CV] alpha=1.5 .......................................................\n",
      "[CV] .............................. alpha=1.5, score=0.771858 -   0.0s\n",
      "[CV] alpha=1.6 .......................................................\n",
      "[CV] .............................. alpha=1.6, score=0.768392 -   0.0s\n",
      "[CV] alpha=1.6 .......................................................\n",
      "[CV] .............................. alpha=1.6, score=0.765027 -   0.0s\n",
      "[CV] alpha=1.6 .......................................................\n",
      "[CV] .............................. alpha=1.6, score=0.771858 -   0.0s\n",
      "[CV] alpha=1.7 .......................................................\n",
      "[CV] .............................. alpha=1.7, score=0.769755 -   0.0s\n",
      "[CV] alpha=1.7 .......................................................\n",
      "[CV] .............................. alpha=1.7, score=0.765027 -   0.0s\n",
      "[CV] alpha=1.7 .......................................................\n",
      "[CV] .............................. alpha=1.7, score=0.775956 -   0.0s\n",
      "[CV] alpha=1.8 .......................................................\n",
      "[CV] .............................. alpha=1.8, score=0.771117 -   0.0s\n",
      "[CV] alpha=1.8 .......................................................\n",
      "[CV] .............................. alpha=1.8, score=0.763661 -   0.0s\n",
      "[CV] alpha=1.8 .......................................................\n",
      "[CV] .............................. alpha=1.8, score=0.771858 -   0.0s\n",
      "[CV] alpha=1.9 .......................................................\n",
      "[CV] .............................. alpha=1.9, score=0.772480 -   0.0s\n",
      "[CV] alpha=1.9 .......................................................\n",
      "[CV] .............................. alpha=1.9, score=0.765027 -   0.0s\n",
      "[CV] alpha=1.9 .......................................................\n",
      "[CV] .............................. alpha=1.9, score=0.770492 -   0.0s\n",
      "[CV] alpha=2 .........................................................\n",
      "[CV] ................................ alpha=2, score=0.772480 -   0.0s\n",
      "[CV] alpha=2 .........................................................\n",
      "[CV] ................................ alpha=2, score=0.763661 -   0.0s\n",
      "[CV] alpha=2 .........................................................\n",
      "[CV] ................................ alpha=2, score=0.770492 -   0.0s\n"
     ]
    },
    {
     "name": "stderr",
     "output_type": "stream",
     "text": [
      "[Parallel(n_jobs=1)]: Done  66 out of  66 | elapsed:    0.5s finished\n"
     ]
    }
   ],
   "source": [
    "grid_obj = GridSearchCV(model, parameters, scoring=scorer, verbose=10)\n",
    "grid_fit = grid_obj.fit(training_data, y_train)"
   ]
  },
  {
   "cell_type": "code",
   "execution_count": 395,
   "metadata": {},
   "outputs": [
    {
     "data": {
      "text/plain": [
       "1.7"
      ]
     },
     "execution_count": 395,
     "metadata": {},
     "output_type": "execute_result"
    }
   ],
   "source": [
    "best_clf = grid_fit.best_estimator_\n",
    "best_clf.alpha\n"
   ]
  },
  {
   "cell_type": "code",
   "execution_count": 396,
   "metadata": {},
   "outputs": [],
   "source": [
    "best_predictions = best_clf.predict(testing_data)"
   ]
  },
  {
   "cell_type": "code",
   "execution_count": 397,
   "metadata": {},
   "outputs": [
    {
     "name": "stdout",
     "output_type": "stream",
     "text": [
      "Unoptimized model\n",
      "------\n",
      "Accuracy score on testing data: 0.79091\n",
      "\n",
      "Optimized Model\n",
      "------\n",
      "Final accuracy score on the testing data: 0.79455\n"
     ]
    }
   ],
   "source": [
    "print(\"Unoptimized model\\n------\")\n",
    "print(\"Accuracy score on testing data: {:.5f}\".format(accuracy_score(y_test, predictions)))\n",
    "print(\"\\nOptimized Model\\n------\")\n",
    "print(\"Final accuracy score on the testing data: {:.5f}\".format(accuracy_score(y_test, best_predictions)))"
   ]
  },
  {
   "cell_type": "code",
   "execution_count": 398,
   "metadata": {},
   "outputs": [
    {
     "data": {
      "image/png": "[encoded data removed]",
      "text/plain": [
       "<Figure size 360x360 with 2 Axes>"
      ]
     },
     "metadata": {},
     "output_type": "display_data"
    }
   ],
   "source": [
    "dict_characters = {0 : 'negative', 1 : 'positive'}\n",
    "confusion_mtx = confusion_matrix(y_test, best_predictions) \n",
    "plot_confusion_matrix(confusion_mtx, classes = list(dict_characters.values())) \n",
    "plt.show()"
   ]
  },
  {
   "cell_type": "markdown",
   "metadata": {},
   "source": [
    "---\n",
    "### [2] Bernoulli NB"
   ]
  },
  {
   "cell_type": "code",
   "execution_count": 399,
   "metadata": {},
   "outputs": [],
   "source": [
    "from sklearn.naive_bayes import BernoulliNB"
   ]
  },
  {
   "cell_type": "code",
   "execution_count": 400,
   "metadata": {},
   "outputs": [
    {
     "data": {
      "text/plain": [
       "BernoulliNB(alpha=1.0, binarize=0.0, class_prior=None, fit_prior=True)"
      ]
     },
     "execution_count": 400,
     "metadata": {},
     "output_type": "execute_result"
    }
   ],
   "source": [
    "model2 = BernoulliNB()\n",
    "model2.fit(training_data, y_train)"
   ]
  },
  {
   "cell_type": "code",
   "execution_count": 401,
   "metadata": {},
   "outputs": [],
   "source": [
    "predictions2 = model2.predict(testing_data)"
   ]
  },
  {
   "cell_type": "code",
   "execution_count": 402,
   "metadata": {},
   "outputs": [
    {
     "name": "stdout",
     "output_type": "stream",
     "text": [
      "Accuracy score: 0.80182\n",
      "Precision score: 0.75329\n",
      "Recall score: 0.87072\n",
      "F1 score: 0.80776\n"
     ]
    }
   ],
   "source": [
    "from sklearn.metrics import accuracy_score, precision_score, recall_score, f1_score\n",
    "print(\"Accuracy score: {:.5f}\".format(accuracy_score(y_test, predictions2)))\n",
    "print(\"Precision score: {:.5f}\".format(precision_score(y_test, predictions2)))\n",
    "print(\"Recall score: {:.5f}\".format(recall_score(y_test, predictions2)))\n",
    "print(\"F1 score: {:.5f}\".format(f1_score(y_test, predictions2)))"
   ]
  },
  {
   "cell_type": "code",
   "execution_count": 403,
   "metadata": {},
   "outputs": [
    {
     "data": {
      "image/png": "[encoded data removed]",
      "text/plain": [
       "<Figure size 360x360 with 2 Axes>"
      ]
     },
     "metadata": {},
     "output_type": "display_data"
    }
   ],
   "source": [
    "dict_characters = {0 : 'negative', 1 : 'positive'}\n",
    "confusion_mtx = confusion_matrix(y_test, predictions2) \n",
    "plot_confusion_matrix(confusion_mtx, classes = list(dict_characters.values())) \n",
    "plt.show()"
   ]
  },
  {
   "cell_type": "code",
   "execution_count": 404,
   "metadata": {},
   "outputs": [],
   "source": [
    "grid_obj2 = GridSearchCV(model2, parameters, scoring=scorer)\n",
    "grid_fit2 = grid_obj2.fit(training_data, y_train)"
   ]
  },
  {
   "cell_type": "code",
   "execution_count": 405,
   "metadata": {},
   "outputs": [
    {
     "data": {
      "text/plain": [
       "0.4"
      ]
     },
     "execution_count": 405,
     "metadata": {},
     "output_type": "execute_result"
    }
   ],
   "source": [
    "best_clf2 = grid_fit2.best_estimator_\n",
    "best_clf2.alpha"
   ]
  },
  {
   "cell_type": "code",
   "execution_count": 406,
   "metadata": {},
   "outputs": [],
   "source": [
    "best_predictions2 = best_clf2.predict(testing_data)"
   ]
  },
  {
   "cell_type": "code",
   "execution_count": 407,
   "metadata": {},
   "outputs": [
    {
     "name": "stdout",
     "output_type": "stream",
     "text": [
      "Unoptimized model\n",
      "------\n",
      "Accuracy score on testing data: 0.80182\n",
      "\n",
      "Optimized Model\n",
      "------\n",
      "Final accuracy score on the testing data: 0.80909\n"
     ]
    }
   ],
   "source": [
    "print(\"Unoptimized model\\n------\")\n",
    "print(\"Accuracy score on testing data: {:.5f}\".format(accuracy_score(y_test, predictions2)))\n",
    "print(\"\\nOptimized Model\\n------\")\n",
    "print(\"Final accuracy score on the testing data: {:.5f}\".format(accuracy_score(y_test, best_predictions2)))"
   ]
  },
  {
   "cell_type": "code",
   "execution_count": 408,
   "metadata": {},
   "outputs": [
    {
     "data": {
      "image/png": "[encoded data removed]",
      "text/plain": [
       "<Figure size 360x360 with 2 Axes>"
      ]
     },
     "metadata": {},
     "output_type": "display_data"
    }
   ],
   "source": [
    "dict_characters = {0 : 'negative', 1 : 'positive'}\n",
    "confusion_mtx = confusion_matrix(y_test, best_predictions2) \n",
    "plot_confusion_matrix(confusion_mtx, classes = list(dict_characters.values())) \n",
    "plt.show()"
   ]
  },
  {
   "cell_type": "markdown",
   "metadata": {},
   "source": [
    "### Conclusion"
   ]
  },
  {
   "cell_type": "markdown",
   "metadata": {},
   "source": [
    "##### to summarize our results:\n",
    "                benchmark       MultinomialNB       BernoulliNB\n",
    "              ===================================================\n",
    "    accuracy     79.273%           79.091%            80.182%\n",
    "    Optimized     -----            79.455%            80.909%"
   ]
  },
  {
   "cell_type": "markdown",
   "metadata": {},
   "source": [
    "So, It's obvious that we can overcome the benchmark results by using Mutlinomial Naive bayes and Bernoulli Naive bayes.\n",
    "\n",
    "The benchmark accuracy is 79.273% but Multinomial are less but very close to the benchmark accuracy and Bernoulli Naive Bayes algorithm are better than the benchmark algorithm in solving our problems (as they give a higher accuracy, 79.091% and 80.182% respectively).\n",
    "\n",
    "So we easily managed to pass the benchmark accuracy without any optimization using Bernouli Naive Bayes.\n",
    "\n",
    "When we use GridSearch to optimize our two algorithms, we got, 79.455% and 80.909% for the optimized Mutinomial and Bernoulli Naive Bayes models which they are better than the benchmark accuracy.\n",
    "\n",
    "To compare the Two used algorithms, we find Bernoulli Naive Bayes give better accuracy in solving our preoblems. that is obvious because our problem's output is binary (negative or positive) and Bernoulli Naive Bayes is a good choice for these kinds of problems.\n",
    "\n",
    "We can conclude that Bernoulli Naive Bayes is better than Multinomial Naive Bayes in solving our problem and it give an accuracy of 80.909% after optimization."
   ]
  },
  {
   "cell_type": "code",
   "execution_count": 411,
   "metadata": {},
   "outputs": [
    {
     "name": "stdout",
     "output_type": "stream",
     "text": [
      "[1]\n"
     ]
    }
   ],
   "source": [
    "model = best_clf2\n",
    "# manual test cases\n",
    "# let's try a positive review.\n",
    "temp = count_vector.transform(['I am very excited with your product'])\n",
    "predict = model.predict(temp)\n",
    "# it should be 1 (positive)\n",
    "print(predict)"
   ]
  },
  {
   "cell_type": "code",
   "execution_count": 417,
   "metadata": {},
   "outputs": [
    {
     "name": "stdout",
     "output_type": "stream",
     "text": [
      "[0]\n"
     ]
    }
   ],
   "source": [
    "#manual test cases\n",
    "# let's try a negative review.\n",
    "temp = count_vector.transform(['the movie is very slow, I did not ejoy it'])\n",
    "predict = model.predict(temp)\n",
    "# it should be 0 (negative)\n",
    "print(predict)"
   ]
  },
  {
   "cell_type": "code",
   "execution_count": null,
   "metadata": {},
   "outputs": [],
   "source": []
  }
 ],
 "metadata": {
  "kernelspec": {
   "display_name": "Python 3",
   "language": "python",
   "name": "python3"
  },
  "language_info": {
   "codemirror_mode": {
    "name": "ipython",
    "version": 3
   },
   "file_extension": ".py",
   "mimetype": "text/x-python",
   "name": "python",
   "nbconvert_exporter": "python",
   "pygments_lexer": "ipython3",
   "version": "3.6.5"
  }
 },
 "nbformat": 4,
 "nbformat_minor": 1
}
